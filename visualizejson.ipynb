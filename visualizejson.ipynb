{
 "cells": [
  {
   "cell_type": "code",
   "execution_count": 1,
   "metadata": {},
   "outputs": [],
   "source": [
    "%matplotlib inline\n",
    "import sys\n",
    "sys.path += ['../..']\n",
    "import os\n",
    "import tarfile\n",
    "import json\n",
    "import matplotlib.pyplot as plt"
   ]
  },
  {
   "cell_type": "code",
   "execution_count": null,
   "metadata": {
    "scrolled": true
   },
   "outputs": [],
   "source": [
    "base_dir = \"/home/vagrant/work/week7/\"\n",
    "events_dir = base_dir + \"events/\"\n",
    "event_jsons = os.listdir(events_dir)\n",
    "output = base_dir + 'output/'\n",
    "PATH_TO_WW2_MAPS = base_dir + 'cwl-data/maps/ww2/'\n",
    "\n",
    "MAP_IMAGES = {\n",
    "    'Aachen': 'aachen.png',\n",
    "    'Ardennes Forest': 'ardennes_forest.png',\n",
    "    'Flak Tower': 'flaktower.png',\n",
    "    'Gibraltar': 'gibraltar.png',\n",
    "    'London Docks': 'london_docks.png',\n",
    "    'Sainte Marie du Mont': 'sainte_marie_du_mont.png' ,\n",
    "    'USS Texas': 'uss_texas.png',\n",
    "    'Valkyrie': 'valkyrie.png'\n",
    "}\n",
    "\n",
    "for event in event_jsons:\n",
    "    EVENT = event + '/'\n",
    "    matches = os.listdir(events_dir + EVENT)\n",
    "    for MATCH in matches:\n",
    "        # load match data and plot match events\n",
    "        with open('{}{}{}'.format(events_dir, EVENT, MATCH), 'r') as match_file:\n",
    "            # get match data\n",
    "            match = json.load(match_file)\n",
    "            death_pos, spawn_pos = {'x': [], 'y': []}, {'x': [], 'y': []}\n",
    "\n",
    "            # get pos data\n",
    "            events = match['events']\n",
    "            for evt in events:\n",
    "                if evt['type'] == 'spawn':\n",
    "                    spawn_pos['x'].append( evt['data']['pos']['x'] )\n",
    "                    spawn_pos['y'].append( evt['data']['pos']['y'] )\n",
    "                if evt['type'] == 'death':\n",
    "                    death_pos['x'].append( evt['data']['pos']['x'] )\n",
    "                    death_pos['y'].append( evt['data']['pos']['y'] )\n",
    "                \n",
    "\n",
    "            # get map image\n",
    "            map_file_name = PATH_TO_WW2_MAPS + MAP_IMAGES[match['map']]\n",
    "            map_image = plt.imread(map_file_name)\n",
    "\n",
    "            # create figure\n",
    "            fig, ax = plt.subplots(1,1)\n",
    "            fig.set_figheight(15)\n",
    "            fig.set_figwidth(15)\n",
    "            # plot map\n",
    "            ax.imshow(map_image)\n",
    "            ax.set_facecolor((210/255.0, 210/255.0, 210/255.0))\n",
    "            # plot spawns and deaths\n",
    "            ax.scatter(spawn_pos['x'], spawn_pos['y'], color='blue')\n",
    "            ax.scatter(death_pos['x'], death_pos['y'], color='red')\n",
    "\n",
    "            # set title\n",
    "            ax.set_title('{} ({})'.format(match['map'], match['mode']))\n",
    "\n",
    "            outfile_path = output + MATCH.replace('json', 'png')\n",
    "            fig.savefig(outfile_path)\n",
    "            plt.cla()   # Clear axis\n",
    "            plt.clf()   # Clear figure\n",
    "            plt.close() # Close a figure window\n",
    "            \n",
    "        \n",
    "        \n",
    "        "
   ]
  },
  {
   "cell_type": "code",
   "execution_count": null,
   "metadata": {},
   "outputs": [],
   "source": []
  },
  {
   "cell_type": "code",
   "execution_count": null,
   "metadata": {},
   "outputs": [],
   "source": []
  }
 ],
 "metadata": {
  "kernelspec": {
   "display_name": "Python 3",
   "language": "python",
   "name": "python3"
  },
  "language_info": {
   "codemirror_mode": {
    "name": "ipython",
    "version": 3
   },
   "file_extension": ".py",
   "mimetype": "text/x-python",
   "name": "python",
   "nbconvert_exporter": "python",
   "pygments_lexer": "ipython3",
   "version": "3.7.2"
  }
 },
 "nbformat": 4,
 "nbformat_minor": 2
}
